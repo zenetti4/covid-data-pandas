{
 "cells": [
  {
   "cell_type": "code",
   "execution_count": 2,
   "id": "6f73d3a9-5f00-449a-abc1-ba92dcd08868",
   "metadata": {},
   "outputs": [],
   "source": [
    "import numpy as np"
   ]
  },
  {
   "cell_type": "code",
   "execution_count": 2,
   "id": "d79af49d-4bce-47bb-8394-75f796875f74",
   "metadata": {},
   "outputs": [],
   "source": [
    "#apple production data"
   ]
  },
  {
   "cell_type": "code",
   "execution_count": 3,
   "id": "ba67550c-f36d-498b-b76c-0778b105e2a8",
   "metadata": {},
   "outputs": [],
   "source": [
    "kanto=np.array([73, 67, 43])"
   ]
  },
  {
   "cell_type": "code",
   "execution_count": 9,
   "id": "53931db2-25c4-452d-b65f-8c20e03dcd2d",
   "metadata": {},
   "outputs": [],
   "source": [
    "weight= np.array([0.3, 0.2, 0.5])"
   ]
  },
  {
   "cell_type": "code",
   "execution_count": 13,
   "id": "cb72ff8a-c4b6-4298-8644-e5fff4d9fba1",
   "metadata": {},
   "outputs": [
    {
     "data": {
      "text/plain": [
       "np.float64(56.8)"
      ]
     },
     "execution_count": 13,
     "metadata": {},
     "output_type": "execute_result"
    }
   ],
   "source": [
    "np.dot(kanto,weight)"
   ]
  },
  {
   "cell_type": "code",
   "execution_count": 14,
   "id": "c29392e6-d8ab-432d-96a1-d821cf32d699",
   "metadata": {},
   "outputs": [
    {
     "name": "stdout",
     "output_type": "stream",
     "text": [
      "[[3 4 5 2 5 3]\n",
      " [2 4 3 4 3 2]]\n"
     ]
    }
   ],
   "source": [
    "c=np.array([[3,4,5],[2,4,3]])\n",
    "d=np.array([[2,5,3],[4,3,2]])\n",
    "print(np.concatenate([c,d],axis=1))"
   ]
  },
  {
   "cell_type": "code",
   "execution_count": 15,
   "id": "f39158f1-7327-4639-b272-e3491f966198",
   "metadata": {},
   "outputs": [],
   "source": [
    "#CLIMATE DATA"
   ]
  },
  {
   "cell_type": "code",
   "execution_count": 5,
   "id": "9fbf7720-992a-46fa-835f-987df1dc65d3",
   "metadata": {},
   "outputs": [],
   "source": [
    "climate_data= np.array([[73, 67, 43],\n",
    "                        [91, 88 , 64],\n",
    "                        [87, 134, 58],\n",
    "                        [102,43, 37],\n",
    "                        [69, 96, 70]])"
   ]
  },
  {
   "cell_type": "code",
   "execution_count": 6,
   "id": "0c526de1-ac92-4abc-b28d-f188ffe98e63",
   "metadata": {},
   "outputs": [
    {
     "data": {
      "text/plain": [
       "array([[ 73,  67,  43],\n",
       "       [ 91,  88,  64],\n",
       "       [ 87, 134,  58],\n",
       "       [102,  43,  37],\n",
       "       [ 69,  96,  70]])"
      ]
     },
     "execution_count": 6,
     "metadata": {},
     "output_type": "execute_result"
    }
   ],
   "source": [
    "climate_data"
   ]
  },
  {
   "cell_type": "code",
   "execution_count": 10,
   "id": "ead93db2-fc69-4b31-b51b-73e67dcd6335",
   "metadata": {},
   "outputs": [
    {
     "data": {
      "text/plain": [
       "array([56.8, 76.9, 81.9, 57.7, 74.9])"
      ]
     },
     "execution_count": 10,
     "metadata": {},
     "output_type": "execute_result"
    }
   ],
   "source": [
    "np.matmul(climate_data, weight)"
   ]
  },
  {
   "cell_type": "code",
   "execution_count": 19,
   "id": "a350a866-db9b-48ce-b015-70ffa585dc90",
   "metadata": {},
   "outputs": [
    {
     "data": {
      "text/plain": [
       "array([56.8, 76.9, 81.9, 57.7, 74.9])"
      ]
     },
     "execution_count": 19,
     "metadata": {},
     "output_type": "execute_result"
    }
   ],
   "source": [
    "climate_data @ weight"
   ]
  },
  {
   "cell_type": "code",
   "execution_count": 11,
   "id": "e00f0bc8-8928-472c-bd63-b0f5eee397d7",
   "metadata": {},
   "outputs": [],
   "source": [
    "data= np.array(climate_data @ weight)"
   ]
  },
  {
   "cell_type": "code",
   "execution_count": 12,
   "id": "bc2c704b-a1c5-4eb9-b00d-d88d5e53ecec",
   "metadata": {},
   "outputs": [
    {
     "data": {
      "text/plain": [
       "array([56.8, 76.9, 81.9, 57.7, 74.9])"
      ]
     },
     "execution_count": 12,
     "metadata": {},
     "output_type": "execute_result"
    }
   ],
   "source": [
    "data"
   ]
  },
  {
   "cell_type": "code",
   "execution_count": 15,
   "id": "cbf74668-ca8a-496f-b190-0c6a04382a37",
   "metadata": {},
   "outputs": [],
   "source": [
    "final_data=data.reshape(5,1)"
   ]
  },
  {
   "cell_type": "code",
   "execution_count": 16,
   "id": "7e2192ba-9a95-4f7a-8122-c60c58a6bd63",
   "metadata": {},
   "outputs": [
    {
     "data": {
      "text/plain": [
       "array([[56.8],\n",
       "       [76.9],\n",
       "       [81.9],\n",
       "       [57.7],\n",
       "       [74.9]])"
      ]
     },
     "execution_count": 16,
     "metadata": {},
     "output_type": "execute_result"
    }
   ],
   "source": [
    "final_data"
   ]
  },
  {
   "cell_type": "code",
   "execution_count": 19,
   "id": "b346dadf-aff7-40dc-8935-c3af3c1ec12f",
   "metadata": {},
   "outputs": [],
   "source": [
    "climate_results=np.concatenate((climate_data,final_data), axis=1)"
   ]
  },
  {
   "cell_type": "code",
   "execution_count": 20,
   "id": "28d62aea-1e80-4000-b159-995103ac28ca",
   "metadata": {},
   "outputs": [
    {
     "data": {
      "text/plain": [
       "array([[ 73. ,  67. ,  43. ,  56.8],\n",
       "       [ 91. ,  88. ,  64. ,  76.9],\n",
       "       [ 87. , 134. ,  58. ,  81.9],\n",
       "       [102. ,  43. ,  37. ,  57.7],\n",
       "       [ 69. ,  96. ,  70. ,  74.9]])"
      ]
     },
     "execution_count": 20,
     "metadata": {},
     "output_type": "execute_result"
    }
   ],
   "source": [
    "climate_results"
   ]
  },
  {
   "cell_type": "code",
   "execution_count": 25,
   "id": "ba8dc2d6-0f51-4321-9f6e-6d8b9011972a",
   "metadata": {},
   "outputs": [],
   "source": [
    "np.savetxt('climate_results.txt',\n",
    "           climate_results,\n",
    "           fmt='%.2f',\n",
    "           delimiter=',',\n",
    "           header='temperature,rainfall,humidity,yeild_apples',\n",
    "           comments='')\n"
   ]
  },
  {
   "cell_type": "code",
   "execution_count": null,
   "id": "3f2f7e95-858f-4646-9a16-53764d1dda9c",
   "metadata": {},
   "outputs": [],
   "source": []
  }
 ],
 "metadata": {
  "kernelspec": {
   "display_name": "Python 3 (ipykernel)",
   "language": "python",
   "name": "python3"
  },
  "language_info": {
   "codemirror_mode": {
    "name": "ipython",
    "version": 3
   },
   "file_extension": ".py",
   "mimetype": "text/x-python",
   "name": "python",
   "nbconvert_exporter": "python",
   "pygments_lexer": "ipython3",
   "version": "3.13.1"
  }
 },
 "nbformat": 4,
 "nbformat_minor": 5
}
